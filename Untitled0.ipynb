{
  "nbformat": 4,
  "nbformat_minor": 0,
  "metadata": {
    "colab": {
      "name": "Untitled0.ipynb",
      "provenance": [],
      "authorship_tag": "ABX9TyNnuTJ7aFDoJgOQA/pKdQxe",
      "include_colab_link": true
    },
    "kernelspec": {
      "name": "python3",
      "display_name": "Python 3"
    },
    "language_info": {
      "name": "python"
    }
  },
  "cells": [
    {
      "cell_type": "markdown",
      "metadata": {
        "id": "view-in-github",
        "colab_type": "text"
      },
      "source": [
        "<a href=\"https://colab.research.google.com/github/umrsiddiqui/uni/blob/main/Untitled0.ipynb\" target=\"_parent\"><img src=\"https://colab.research.google.com/assets/colab-badge.svg\" alt=\"Open In Colab\"/></a>"
      ]
    },
    {
      "cell_type": "code",
      "source": [
        "print(\"hh\")"
      ],
      "metadata": {
        "id": "U9VsfEZdSI9l",
        "colab": {
          "base_uri": "https://localhost:8080/"
        },
        "outputId": "4254f10d-96e5-46e2-d208-1edaf41532e5"
      },
      "execution_count": null,
      "outputs": [
        {
          "output_type": "stream",
          "name": "stdout",
          "text": [
            "hh\n"
          ]
        }
      ]
    },
    {
      "cell_type": "code",
      "source": [
        "print(\"edrftgyh\")"
      ],
      "metadata": {
        "id": "v86pOPiwSduu",
        "colab": {
          "base_uri": "https://localhost:8080/"
        },
        "outputId": "d07bfa9e-bb80-4624-a0b4-eb1eda24f0d5"
      },
      "execution_count": 1,
      "outputs": [
        {
          "output_type": "stream",
          "name": "stdout",
          "text": [
            "edrftgyh\n"
          ]
        }
      ]
    },
    {
      "cell_type": "code",
      "source": [
        "print(\"WSEDRFH\")"
      ],
      "metadata": {
        "colab": {
          "base_uri": "https://localhost:8080/"
        },
        "id": "XAe71GGeTc2e",
        "outputId": "721be5e4-76ed-4eac-dbf2-d9d8936cc80e"
      },
      "execution_count": 3,
      "outputs": [
        {
          "output_type": "stream",
          "name": "stdout",
          "text": [
            "WSEDRFH\n"
          ]
        }
      ]
    },
    {
      "cell_type": "code",
      "source": [
        ""
      ],
      "metadata": {
        "id": "DAEda-uRT6vX"
      },
      "execution_count": null,
      "outputs": []
    }
  ]
}